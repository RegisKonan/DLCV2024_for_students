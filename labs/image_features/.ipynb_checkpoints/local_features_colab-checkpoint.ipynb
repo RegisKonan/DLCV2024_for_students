{
 "cells": [
  {
   "cell_type": "code",
   "execution_count": null,
   "metadata": {
    "id": "yUlkti9iwRzN"
   },
   "outputs": [],
   "source": [
    "from google.colab import drive\n",
    "drive.mount('/content/drive')"
   ]
  },
  {
   "cell_type": "code",
   "execution_count": null,
   "metadata": {
    "id": "zG-WbYVVwNgG"
   },
   "outputs": [],
   "source": [
    "import numpy as np\n",
    "from scipy import signal\n",
    "import matplotlib.pyplot as plt\n",
    "from matplotlib import cm\n",
    "from skimage import data, color, img_as_float, img_as_ubyte, filters, feature, io\n",
    "\n",
    "%matplotlib inline\n",
    "from IPython.display import HTML, display"
   ]
  },
  {
   "cell_type": "markdown",
   "metadata": {
    "id": "cnmFO0vawNgH"
   },
   "source": [
    "# Image filters and feature detection\n",
    "\n",
    "In this lab, we will implement some simple solution to perform features detection on images. First of all, what does it mean **feature detection**?\n",
    "\n",
    "*In computer vision and image processing the concept of feature detection refers to methods that aim at computing abstractions of image information and making local decisions at every image point whether there is an image feature of a given type at that point or not. The resulting features will be subsets of the image domain, often in the form of isolated points, continuous curves or connected regions.*\n",
    "\n",
    "[cit. <a href=\"https://en.wikipedia.org/wiki/Feature_detection_(computer_vision)\">Wikipedia</a>]\n",
    "\n",
    "In this lab we will restrict our attention on **edges** and **corners** (see example below). For a comprehensive summary on feature detection algorithms, I strongly recommend to check <a href=\"http://scikit-image.org/docs/dev/api/skimage.feature.html?highlight=feature#module-skimage.feature\">`skimage.feature`</a> API."
   ]
  },
  {
   "cell_type": "markdown",
   "metadata": {
    "id": "p6U_xW-fwNgI"
   },
   "source": [
    "## 1. Edge detection"
   ]
  },
  {
   "cell_type": "markdown",
   "metadata": {
    "id": "aVTfY5p8wNgI"
   },
   "source": [
    "Over the years, <a href=\"https://en.wikipedia.org/wiki/Edge_detection\">several algorithms</a> for edge detection were developed. In this lab we are going to implement an edge detector that follows this simple strategy:\n",
    "\n",
    "1. perform Gaussian smoothing on an input greyscale image;\n",
    "2. then compute the partial first derivatives on the result and the magnitude of the gradient;\n",
    "4. thresholds the magnitude of the gradient with an input threshold;\n",
    "5. return the edge map.\n",
    "\n",
    "The parameters of every intermediate step, must be specified as input arguments."
   ]
  },
  {
   "cell_type": "markdown",
   "metadata": {
    "id": "gk3xitm8wNgI"
   },
   "source": [
    "### 1.1 Gaussian smoothing\n",
    "We already covered this step in the last lab."
   ]
  },
  {
   "cell_type": "code",
   "execution_count": null,
   "metadata": {
    "id": "CbJmyi8ZwNgJ"
   },
   "outputs": [],
   "source": [
    "# Load an input image and convert it to grayscale  \n",
    "original_img = io.imread('/content/drive/MyDrive/image_features/data/images/castle.png')\n",
    "\n",
    "\n",
    "\n",
    "# check if image is rgb or already in greyscale, convert to greyscale(in case its RGB),\n",
    "# in both cases convert image to float\n",
    "if(len(original_img.shape)==3):\n",
    "    img_grey = img_as_float(color.rgb2gray(original_img))\n",
    "elif(len(original_img.shape)==2):\n",
    "    img_grey = img_as_float(original_img)\n",
    "\n",
    "# Apply gaussian filter\n",
    "sigma = np.sqrt(2) # TRY WITH OTHER VALUES!\n",
    "img_smooth = filters.gaussian(img_grey, sigma)\n",
    "\n",
    "plt.figure(figsize=(8,6))\n",
    "plt.subplot(121)\n",
    "plt.imshow(original_img, cmap=cm.gist_gray)\n",
    "plt.title('Original image')\n",
    "plt.subplot(122)\n",
    "plt.imshow(img_smooth, cmap=cm.gist_gray)\n",
    "plt.title('Gaussian filtered image');"
   ]
  },
  {
   "cell_type": "markdown",
   "metadata": {
    "id": "GBZXMClPwNgK"
   },
   "source": [
    "### 1.2 Image gradient\n",
    "To estimate the first derivative (finite differences) of an image on the horizontal ($I_x$) direction you can simply perform a convolution of the image with the kernel $k=[-0.5, 0, 0.5]$. Can you guess what do you need to do to estimate the first derivative on the vertical ($I_y$) direction?\n",
    "\n",
    "The magnitude of the gradient is $G = \\sqrt{I_x^2+I_y^2}$."
   ]
  },
  {
   "cell_type": "code",
   "execution_count": null,
   "metadata": {
    "id": "8JhB0juhwNgK"
   },
   "outputs": [],
   "source": [
    "# Partial derivatives kernel\n",
    "k = np.array([-0.5, 0, 0.5]) #you may also. try [-1,1]\n",
    "\n",
    "# Compute first derivative along x\n",
    "Ix = np.zeros_like(img_grey)\n",
    "for i, r in enumerate(img_smooth):\n",
    "        Ix[i, :] = signal.convolve(r, k, mode='same')\n",
    "\n",
    "# Compute first derivative along y\n",
    "Iy = np.zeros_like(img_grey)\n",
    "for i, c in enumerate(img_smooth.T):\n",
    "        Iy[:, i] = signal.convolve(c, k, mode='same')\n",
    "\n",
    "# Compute the magnitude of the gradient\n",
    "G = np.sqrt(Ix**2 + Iy**2)\n",
    "\n",
    "\n",
    "plt.figure(figsize=(12,6))\n",
    "plt.subplot(131)\n",
    "plt.imshow(Ix, cmap=cm.gist_gray)\n",
    "plt.title(r'$I_x$')\n",
    "plt.subplot(132)\n",
    "plt.imshow(Iy, cmap=cm.gist_gray)\n",
    "plt.title(r'$I_y$')\n",
    "plt.subplot(133)\n",
    "plt.imshow(G, cmap=cm.gist_gray)\n",
    "plt.title(r'$G = \\sqrt{I_x^2+I_y^2}$')\n",
    "plt.tight_layout;"
   ]
  },
  {
   "cell_type": "markdown",
   "metadata": {
    "id": "hqWi6O7qwNgK"
   },
   "source": [
    "### 1.3 Edge map\n",
    "Thresholding the gradient you should be able to obtain the an estimate of the edges of the input image."
   ]
  },
  {
   "cell_type": "code",
   "execution_count": null,
   "metadata": {
    "id": "TibWfVMBwNgK"
   },
   "outputs": [],
   "source": [
    "threshold = 0.03\n",
    "edge = np.where(G > threshold, 255, 0)\n",
    "\n",
    "plt.figure(figsize=(8,6))\n",
    "plt.subplot(121)\n",
    "plt.imshow(original_img, cmap=cm.gist_gray)\n",
    "plt.title('Original image')\n",
    "plt.subplot(122)\n",
    "plt.imshow(edge, cmap=cm.gist_gray)\n",
    "plt.title('Edge map');\n",
    "plt.tight_layout()"
   ]
  },
  {
   "cell_type": "markdown",
   "metadata": {
    "id": "Ll0EQO8lwNgK"
   },
   "source": [
    "### 1.4 Edge detection function\n",
    "Summarize the steps above in a single function named `edge_detector`, and test it to different images."
   ]
  },
  {
   "cell_type": "code",
   "execution_count": null,
   "metadata": {
    "id": "OJuvCqsTwNgL"
   },
   "outputs": [],
   "source": [
    "def edge_detector(img, sigma, threshold):\n",
    "    \"\"\"Perform edge detection on an input RGB image.\n",
    "    \n",
    "    - img: (n, m) input RGB image\n",
    "    - sigma: float, standard deviation of the Gaussian smoothing\n",
    "    - threshold: float, threshold value for the gradient\n",
    "    \"\"\"\n",
    "    \n",
    "    # Apply Gaussian filter\n",
    "    img_smooth = filters.gaussian(#.....FILL IN)\n",
    "    \n",
    "    # Compute first derivatives with the following kernel\n",
    "    k = #.... FILL IN ....\n",
    "\n",
    "    # Compute first derivative along x\n",
    "    Ix = np.zeros(img_smooth.shape)\n",
    "    for i, r in enumerate(img_smooth):\n",
    "        \n",
    "        Ix[i, :] = signal.convolve(r, k, mode='same')\n",
    "\n",
    "    # Compute first derivative along y\n",
    "    Iy = np.zeros(img_smooth.shape)\n",
    "    for i, c in enumerate(img_smooth.T):\n",
    "        Iy[:, i] = signal.convolve(c, k, mode='same')\n",
    "\n",
    "    # Compute the mangnitude of the gradient\n",
    "    G = # ... FILL IN \n",
    "    \n",
    "    # Generate edge map\n",
    "    edge = # ... FILL IN \n",
    "    \n",
    "    return edge"
   ]
  },
  {
   "cell_type": "code",
   "execution_count": null,
   "metadata": {
    "id": "HX3BUKiRwNgL"
   },
   "outputs": [],
   "source": [
    "# Run some edge detection\n",
    "original_img = io.imread('/content/drive/MyDrive/image_features/data/images/tree.jpeg')\n",
    "\n",
    "# check if image is rgb or already in greyscale, convert to greyscale(in case its RGB),\n",
    "# in both cases convert image to float\n",
    "\n",
    "if(len(original_img.shape)==3):\n",
    "    img_grey = img_as_float(color.rgb2gray(original_img))\n",
    "elif(len(original_img.shape)==2):\n",
    "    img_grey = img_as_float(original_img)\n",
    "\n",
    "edge = edge_detector(img_grey, np.sqrt(2), 0.09)\n",
    "\n",
    "plt.figure(figsize=(12,6))\n",
    "plt.subplot(121)\n",
    "plt.imshow(original_img, cmap=cm.gist_gray)\n",
    "plt.title('Original image')\n",
    "plt.subplot(122)\n",
    "plt.imshow(edge, cmap=cm.gist_gray)\n",
    "plt.title('Edge map');"
   ]
  },
  {
   "cell_type": "code",
   "execution_count": null,
   "metadata": {
    "id": "OUIEWK0awNgL"
   },
   "outputs": [],
   "source": [
    "# FILL IN HERE: \n",
    "# by appropriate calls of the function above\n",
    "# COMPARE THE EFFECT OF CHOOSING 3 DIFFERENT THRESHOLDS and 3 DIFFERENT VALUES FOR SIGMA\n",
    "\n"
   ]
  },
  {
   "cell_type": "markdown",
   "metadata": {
    "id": "vxrTG-hBwNgL"
   },
   "source": [
    "### 1.5 Comparison with the Canny algorithm\n",
    "Compare the results obtained by our simple implementation with the well known <a href=\"http://scikit-image.org/docs/dev/api/skimage.feature.html?highlight=feature#skimage.feature.canny\">Canny edge detector</a>.\n",
    "\n",
    "**Hint:** check the help for `feature.canny` from the `skimage` library"
   ]
  },
  {
   "cell_type": "code",
   "execution_count": null,
   "metadata": {
    "id": "VdoBa-gOwNgL"
   },
   "outputs": [],
   "source": [
    "# get information about canny function\n",
    "feature.canny??"
   ]
  },
  {
   "cell_type": "code",
   "execution_count": null,
   "metadata": {
    "id": "-20GN4F5wNgL"
   },
   "outputs": [],
   "source": [
    "# Run some edge detection\n",
    "\n",
    "original_img = io.imread('/content/drive/MyDrive/image_features/data/images/castle.png')\n",
    "\n",
    "\n",
    "\n",
    "# check if image is rgb or already in greyscale, convert to greyscale(in case its RGB),\n",
    "# in both cases convert image to float\n",
    "\n",
    "if(len(original_img.shape)==3):\n",
    "    img_grey = img_as_float(color.rgb2gray(original_img))\n",
    "elif(len(original_img.shape)==2):\n",
    "    img_grey = img_as_float(original_img)\n",
    "\n",
    "\n",
    "edge = edge_detector(img_grey, np.sqrt(2), 0.09)\n",
    "edge_canny = feature.canny(# FILL IN HERE )\n",
    "\n",
    "plt.figure(figsize=(12,6))\n",
    "plt.subplot(131)\n",
    "plt.imshow(original_img, cmap=cm.gist_gray)\n",
    "plt.title('Original image')\n",
    "plt.subplot(132)\n",
    "plt.imshow(edge, cmap=cm.gist_gray)\n",
    "plt.title('Edge map')\n",
    "plt.subplot(133)\n",
    "plt.imshow(edge_canny, cmap=cm.gist_gray)\n",
    "plt.title('Edge map');"
   ]
  },
  {
   "cell_type": "markdown",
   "metadata": {
    "id": "w9hAL3tFwNgL"
   },
   "source": [
    "## 2. Corner detection\n",
    "\n",
    "Corners are fundamental image features that are often used in a large number of applications such as image matching, object recognition, and so on. Among the <a href=\"https://en.wikipedia.org/wiki/Corner_detection\">plethora of corner detection algorithms</a> a very well known is the <a href=\"https://en.wikipedia.org/wiki/Corner_detection#The_Harris_.26_Stephens_.2F_Plessey_.2F_Shi.E2.80.93Tomasi_corner_detection_algorithms\">Shi-Tomasi</a> algorithm.\n",
    "\n",
    "For time reasons, istead than our own implementation,  we will exploit directly <a href=\"http://scikit-image.org/docs/dev/api/skimage.feature.html?highlight=feature#skimage.feature.corner_shi_tomasi\">`feature.corner_shi_tomasi`</a> from `skimage` to perform some corner detection."
   ]
  },
  {
   "cell_type": "code",
   "execution_count": null,
   "metadata": {
    "id": "Rccq86tvwNgM"
   },
   "outputs": [],
   "source": [
    "feature.corner_shi_tomasi??"
   ]
  },
  {
   "cell_type": "code",
   "execution_count": null,
   "metadata": {
    "id": "53_vmHcewNgM"
   },
   "outputs": [],
   "source": [
    "original_img = io.imread('/content/drive/MyDrive/image_features/data/images/castle.png')\n",
    "\n",
    "# check if image is rgb or already in greyscale, convert to greyscale(in case its RGB),\n",
    "# in both cases convert image to float\n",
    "\n",
    "if(len(original_img.shape)==3):\n",
    "    img_grey = img_as_float(color.rgb2gray(original_img))\n",
    "elif(len(original_img.shape)==2):\n",
    "    img_grey = img_as_float(original_img)\n",
    "    \n",
    "corners_map = feature.corner_shi_tomasi(img_grey)\n",
    "\n",
    "plt.figure(figsize=(12,6))\n",
    "plt.subplot(121)\n",
    "plt.imshow(original_img, cmap=cm.gist_gray)\n",
    "plt.title('Original image')\n",
    "plt.subplot(122)\n",
    "plt.imshow(corners_map, cmap=cm.jet)\n",
    "plt.colorbar(orientation='horizontal')\n",
    "plt.title('Corners map');"
   ]
  },
  {
   "cell_type": "markdown",
   "metadata": {
    "id": "mr_9nKucwNgM"
   },
   "source": [
    "Once the corner map is estimated, to estimate the actual corner position you should implement some corner peaks detection. A simple idea could be, for instance, to perform a simple thresholding of the corners map. Try this idea out in the next cell."
   ]
  },
  {
   "cell_type": "code",
   "execution_count": null,
   "metadata": {
    "id": "cZ3DQZbBwNgM"
   },
   "outputs": [],
   "source": [
    "# FILL IN HERE \n",
    "# threshold the corner mask \n",
    "\n",
    "threshold = 0.1\n",
    "naive_corners = np.where(corners_map > threshold)\n",
    "\n",
    "plt.figure(figsize=(12,6))\n",
    "plt.imshow(original_img, cmap=cm.gist_gray)\n",
    "plt.scatter(naive_corners[1], naive_corners[0], s=1, c='r');"
   ]
  },
  {
   "cell_type": "markdown",
   "metadata": {
    "id": "sJbW8MidwNgM"
   },
   "source": [
    "More refined algorithms to detect the corner peaks were proposed, see for instance `feature.corner_peaks`."
   ]
  },
  {
   "cell_type": "code",
   "execution_count": null,
   "metadata": {
    "id": "Gqczwl8twNgM"
   },
   "outputs": [],
   "source": [
    "feature.corner_peaks??"
   ]
  },
  {
   "cell_type": "markdown",
   "metadata": {
    "id": "4n29EqPuwNgM"
   },
   "source": [
    "Compare the results obtained by the two corner peaks approaches."
   ]
  },
  {
   "cell_type": "code",
   "execution_count": null,
   "metadata": {
    "id": "HBgxHzFEwNgN"
   },
   "outputs": [],
   "source": [
    "#original_img = io.imread('castle.png')\n",
    "\n",
    "# check if image is rgb or already in greyscale, convert to greyscale(in case its RGB),\n",
    "# in both cases convert image to float\n",
    "\n",
    "if(len(original_img.shape)==3):\n",
    "    img_grey = color.rgb2gray(original_img)\n",
    "elif(len(original_img.shape)==2):\n",
    "    img_grey = original_img\n",
    "\n",
    "\n",
    "    \n",
    "    \n",
    "corners = feature.corner_peaks(feature.corner_shi_tomasi(img_grey),threshold_abs=0.1)\n",
    "\n",
    "\n",
    "plt.figure(figsize=(12,6))\n",
    "plt.subplot(121)\n",
    "plt.imshow(original_img, cmap=cm.gist_gray)\n",
    "plt.scatter(corners[:,1], corners[:,0], s=1, c='r')\n",
    "plt.title('skimage.feature.corner_peaks result')\n",
    "\n",
    "plt.subplot(122)\n",
    "plt.imshow(original_img, cmap=cm.gist_gray)\n",
    "plt.scatter(naive_corners[1], naive_corners[0], s=1, c='r')\n",
    "plt.title('naive thresholding result');"
   ]
  },
  {
   "cell_type": "markdown",
   "metadata": {
    "id": "jWzdJe8nwNgN"
   },
   "source": [
    "## 3. Finished already?\n",
    "\n",
    "If you still have time before the lab is over you can try out different images from the  experiment the effect of geometric transformations (rotation and zoom, for instance) \n",
    "on the feature detection of above\n",
    "(See yesterday's lab) </a>"
   ]
  }
 ],
 "metadata": {
  "anaconda-cloud": {},
  "colab": {
   "provenance": []
  },
  "kernelspec": {
   "display_name": "Python 3 (ipykernel)",
   "language": "python",
   "name": "python3"
  },
  "language_info": {
   "codemirror_mode": {
    "name": "ipython",
    "version": 3
   },
   "file_extension": ".py",
   "mimetype": "text/x-python",
   "name": "python",
   "nbconvert_exporter": "python",
   "pygments_lexer": "ipython3",
   "version": "3.11.3"
  }
 },
 "nbformat": 4,
 "nbformat_minor": 1
}
